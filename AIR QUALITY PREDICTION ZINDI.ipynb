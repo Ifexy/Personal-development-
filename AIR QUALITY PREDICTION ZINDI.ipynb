{
 "cells": [
  {
   "cell_type": "markdown",
   "id": "e93cdaf9",
   "metadata": {},
   "source": [
    "# ZINDI AIR QUALITY PREDICTION CHALLENGE\n",
    "\n",
    "## OKWUAZU IFEAKACHUKWU"
   ]
  },
  {
   "cell_type": "code",
   "execution_count": 1,
   "id": "c9f72ee9",
   "metadata": {},
   "outputs": [],
   "source": [
    "import os \n",
    "os.environ['PYTHONHASHSEED']=str(1)"
   ]
  },
  {
   "cell_type": "code",
   "execution_count": 2,
   "id": "e1cfdc7e",
   "metadata": {},
   "outputs": [],
   "source": [
    "import tensorflow as tf \n",
    "import tensorflow.keras as keras \n",
    "import tensorflow.keras.layers "
   ]
  },
  {
   "cell_type": "code",
   "execution_count": 3,
   "id": "f5f88e64",
   "metadata": {},
   "outputs": [],
   "source": [
    "def reset_random_seeds():\n",
    "    os.environ['PYTHONHASHSEED']=str(1)\n",
    "    tf.random.set_seed(1)\n",
    "    np.random.seed(1)\n",
    "    random.seed(1)"
   ]
  },
  {
   "cell_type": "code",
   "execution_count": 4,
   "id": "336f0f06",
   "metadata": {},
   "outputs": [],
   "source": [
    "import random \n",
    "import warnings\n",
    "import pandas as pd \n",
    "import numpy as np\n",
    "import seaborn as sns \n",
    "import matplotlib.pyplot as plt \n",
    "warnings.filterwarnings('ignore')\n",
    "from sklearn.preprocessing import StandardScaler\n",
    "from sklearn.model_selection import train_test_split"
   ]
  },
  {
   "cell_type": "code",
   "execution_count": 5,
   "id": "ca860ff5",
   "metadata": {},
   "outputs": [],
   "source": [
    "import keras\n",
    "from keras.models import Sequential\n",
    "from keras.layers import Dense\n",
    "from keras.layers import LeakyReLU,PReLU,ELU\n",
    "from keras.layers import Dropout\n",
    "from keras.regularizers import l1"
   ]
  },
  {
   "cell_type": "code",
   "execution_count": 6,
   "id": "5e165d40",
   "metadata": {},
   "outputs": [],
   "source": [
    "Train= pd.read_csv('C:\\\\Users\\\\Okwua\\\\Train_AQI.csv')\n",
    "Test= pd.read_csv('C:\\\\Users\\\\Okwua\\\\Test_AQI.csv')"
   ]
  },
  {
   "cell_type": "code",
   "execution_count": 7,
   "id": "41ff7b15",
   "metadata": {
    "scrolled": true
   },
   "outputs": [
    {
     "data": {
      "text/html": [
       "<div>\n",
       "<style scoped>\n",
       "    .dataframe tbody tr th:only-of-type {\n",
       "        vertical-align: middle;\n",
       "    }\n",
       "\n",
       "    .dataframe tbody tr th {\n",
       "        vertical-align: top;\n",
       "    }\n",
       "\n",
       "    .dataframe thead th {\n",
       "        text-align: right;\n",
       "    }\n",
       "</style>\n",
       "<table border=\"1\" class=\"dataframe\">\n",
       "  <thead>\n",
       "    <tr style=\"text-align: right;\">\n",
       "      <th></th>\n",
       "      <th>Place_ID X Date</th>\n",
       "      <th>Date</th>\n",
       "      <th>Place_ID</th>\n",
       "      <th>precipitable_water_entire_atmosphere</th>\n",
       "      <th>relative_humidity_2m_above_ground</th>\n",
       "      <th>specific_humidity_2m_above_ground</th>\n",
       "      <th>temperature_2m_above_ground</th>\n",
       "      <th>u_component_of_wind_10m_above_ground</th>\n",
       "      <th>v_component_of_wind_10m_above_ground</th>\n",
       "      <th>L3_NO2_NO2_column_number_density</th>\n",
       "      <th>...</th>\n",
       "      <th>L3_SO2_sensor_zenith_angle</th>\n",
       "      <th>L3_SO2_solar_azimuth_angle</th>\n",
       "      <th>L3_SO2_solar_zenith_angle</th>\n",
       "      <th>L3_CH4_CH4_column_volume_mixing_ratio_dry_air</th>\n",
       "      <th>L3_CH4_aerosol_height</th>\n",
       "      <th>L3_CH4_aerosol_optical_depth</th>\n",
       "      <th>L3_CH4_sensor_azimuth_angle</th>\n",
       "      <th>L3_CH4_sensor_zenith_angle</th>\n",
       "      <th>L3_CH4_solar_azimuth_angle</th>\n",
       "      <th>L3_CH4_solar_zenith_angle</th>\n",
       "    </tr>\n",
       "  </thead>\n",
       "  <tbody>\n",
       "    <tr>\n",
       "      <th>0</th>\n",
       "      <td>0OS9LVX X 2020-01-02</td>\n",
       "      <td>2020-01-02</td>\n",
       "      <td>0OS9LVX</td>\n",
       "      <td>11.600000</td>\n",
       "      <td>30.200001</td>\n",
       "      <td>0.00409</td>\n",
       "      <td>14.656824</td>\n",
       "      <td>3.956377</td>\n",
       "      <td>0.712605</td>\n",
       "      <td>0.000053</td>\n",
       "      <td>...</td>\n",
       "      <td>1.445658</td>\n",
       "      <td>-95.984984</td>\n",
       "      <td>22.942019</td>\n",
       "      <td>NaN</td>\n",
       "      <td>NaN</td>\n",
       "      <td>NaN</td>\n",
       "      <td>NaN</td>\n",
       "      <td>NaN</td>\n",
       "      <td>NaN</td>\n",
       "      <td>NaN</td>\n",
       "    </tr>\n",
       "    <tr>\n",
       "      <th>1</th>\n",
       "      <td>0OS9LVX X 2020-01-03</td>\n",
       "      <td>2020-01-03</td>\n",
       "      <td>0OS9LVX</td>\n",
       "      <td>18.300001</td>\n",
       "      <td>42.900002</td>\n",
       "      <td>0.00595</td>\n",
       "      <td>15.026544</td>\n",
       "      <td>4.230430</td>\n",
       "      <td>0.661892</td>\n",
       "      <td>0.000050</td>\n",
       "      <td>...</td>\n",
       "      <td>34.641758</td>\n",
       "      <td>-95.014908</td>\n",
       "      <td>18.539116</td>\n",
       "      <td>NaN</td>\n",
       "      <td>NaN</td>\n",
       "      <td>NaN</td>\n",
       "      <td>NaN</td>\n",
       "      <td>NaN</td>\n",
       "      <td>NaN</td>\n",
       "      <td>NaN</td>\n",
       "    </tr>\n",
       "    <tr>\n",
       "      <th>2</th>\n",
       "      <td>0OS9LVX X 2020-01-04</td>\n",
       "      <td>2020-01-04</td>\n",
       "      <td>0OS9LVX</td>\n",
       "      <td>17.600000</td>\n",
       "      <td>41.299999</td>\n",
       "      <td>0.00590</td>\n",
       "      <td>15.511041</td>\n",
       "      <td>5.245728</td>\n",
       "      <td>1.640559</td>\n",
       "      <td>0.000050</td>\n",
       "      <td>...</td>\n",
       "      <td>55.872276</td>\n",
       "      <td>-94.015418</td>\n",
       "      <td>14.140820</td>\n",
       "      <td>NaN</td>\n",
       "      <td>NaN</td>\n",
       "      <td>NaN</td>\n",
       "      <td>NaN</td>\n",
       "      <td>NaN</td>\n",
       "      <td>NaN</td>\n",
       "      <td>NaN</td>\n",
       "    </tr>\n",
       "    <tr>\n",
       "      <th>3</th>\n",
       "      <td>0OS9LVX X 2020-01-05</td>\n",
       "      <td>2020-01-05</td>\n",
       "      <td>0OS9LVX</td>\n",
       "      <td>15.011948</td>\n",
       "      <td>53.100002</td>\n",
       "      <td>0.00709</td>\n",
       "      <td>14.441858</td>\n",
       "      <td>5.454001</td>\n",
       "      <td>-0.190532</td>\n",
       "      <td>0.000055</td>\n",
       "      <td>...</td>\n",
       "      <td>59.174188</td>\n",
       "      <td>-97.247602</td>\n",
       "      <td>32.730553</td>\n",
       "      <td>NaN</td>\n",
       "      <td>NaN</td>\n",
       "      <td>NaN</td>\n",
       "      <td>NaN</td>\n",
       "      <td>NaN</td>\n",
       "      <td>NaN</td>\n",
       "      <td>NaN</td>\n",
       "    </tr>\n",
       "    <tr>\n",
       "      <th>4</th>\n",
       "      <td>0OS9LVX X 2020-01-06</td>\n",
       "      <td>2020-01-06</td>\n",
       "      <td>0OS9LVX</td>\n",
       "      <td>9.700000</td>\n",
       "      <td>71.599998</td>\n",
       "      <td>0.00808</td>\n",
       "      <td>11.896295</td>\n",
       "      <td>3.511787</td>\n",
       "      <td>-0.279441</td>\n",
       "      <td>0.000055</td>\n",
       "      <td>...</td>\n",
       "      <td>40.925873</td>\n",
       "      <td>-96.057265</td>\n",
       "      <td>28.320527</td>\n",
       "      <td>1831.261597</td>\n",
       "      <td>3229.118652</td>\n",
       "      <td>0.031068</td>\n",
       "      <td>-100.278343</td>\n",
       "      <td>41.84708</td>\n",
       "      <td>-95.910744</td>\n",
       "      <td>28.498789</td>\n",
       "    </tr>\n",
       "  </tbody>\n",
       "</table>\n",
       "<p>5 rows × 77 columns</p>\n",
       "</div>"
      ],
      "text/plain": [
       "        Place_ID X Date        Date Place_ID  \\\n",
       "0  0OS9LVX X 2020-01-02  2020-01-02  0OS9LVX   \n",
       "1  0OS9LVX X 2020-01-03  2020-01-03  0OS9LVX   \n",
       "2  0OS9LVX X 2020-01-04  2020-01-04  0OS9LVX   \n",
       "3  0OS9LVX X 2020-01-05  2020-01-05  0OS9LVX   \n",
       "4  0OS9LVX X 2020-01-06  2020-01-06  0OS9LVX   \n",
       "\n",
       "   precipitable_water_entire_atmosphere  relative_humidity_2m_above_ground  \\\n",
       "0                             11.600000                          30.200001   \n",
       "1                             18.300001                          42.900002   \n",
       "2                             17.600000                          41.299999   \n",
       "3                             15.011948                          53.100002   \n",
       "4                              9.700000                          71.599998   \n",
       "\n",
       "   specific_humidity_2m_above_ground  temperature_2m_above_ground  \\\n",
       "0                            0.00409                    14.656824   \n",
       "1                            0.00595                    15.026544   \n",
       "2                            0.00590                    15.511041   \n",
       "3                            0.00709                    14.441858   \n",
       "4                            0.00808                    11.896295   \n",
       "\n",
       "   u_component_of_wind_10m_above_ground  v_component_of_wind_10m_above_ground  \\\n",
       "0                              3.956377                              0.712605   \n",
       "1                              4.230430                              0.661892   \n",
       "2                              5.245728                              1.640559   \n",
       "3                              5.454001                             -0.190532   \n",
       "4                              3.511787                             -0.279441   \n",
       "\n",
       "   L3_NO2_NO2_column_number_density  ...  L3_SO2_sensor_zenith_angle  \\\n",
       "0                          0.000053  ...                    1.445658   \n",
       "1                          0.000050  ...                   34.641758   \n",
       "2                          0.000050  ...                   55.872276   \n",
       "3                          0.000055  ...                   59.174188   \n",
       "4                          0.000055  ...                   40.925873   \n",
       "\n",
       "   L3_SO2_solar_azimuth_angle  L3_SO2_solar_zenith_angle  \\\n",
       "0                  -95.984984                  22.942019   \n",
       "1                  -95.014908                  18.539116   \n",
       "2                  -94.015418                  14.140820   \n",
       "3                  -97.247602                  32.730553   \n",
       "4                  -96.057265                  28.320527   \n",
       "\n",
       "   L3_CH4_CH4_column_volume_mixing_ratio_dry_air  L3_CH4_aerosol_height  \\\n",
       "0                                            NaN                    NaN   \n",
       "1                                            NaN                    NaN   \n",
       "2                                            NaN                    NaN   \n",
       "3                                            NaN                    NaN   \n",
       "4                                    1831.261597            3229.118652   \n",
       "\n",
       "   L3_CH4_aerosol_optical_depth  L3_CH4_sensor_azimuth_angle  \\\n",
       "0                           NaN                          NaN   \n",
       "1                           NaN                          NaN   \n",
       "2                           NaN                          NaN   \n",
       "3                           NaN                          NaN   \n",
       "4                      0.031068                  -100.278343   \n",
       "\n",
       "   L3_CH4_sensor_zenith_angle  L3_CH4_solar_azimuth_angle  \\\n",
       "0                         NaN                         NaN   \n",
       "1                         NaN                         NaN   \n",
       "2                         NaN                         NaN   \n",
       "3                         NaN                         NaN   \n",
       "4                    41.84708                  -95.910744   \n",
       "\n",
       "   L3_CH4_solar_zenith_angle  \n",
       "0                        NaN  \n",
       "1                        NaN  \n",
       "2                        NaN  \n",
       "3                        NaN  \n",
       "4                  28.498789  \n",
       "\n",
       "[5 rows x 77 columns]"
      ]
     },
     "execution_count": 7,
     "metadata": {},
     "output_type": "execute_result"
    }
   ],
   "source": [
    "Test.head()"
   ]
  },
  {
   "cell_type": "code",
   "execution_count": 8,
   "id": "8ed999b4",
   "metadata": {},
   "outputs": [],
   "source": [
    "def drop_cols_na(Train, threshold):\n",
    "  \"\"\"Recieves dataframe(df) and threshold as arguements and drops columns based on the threshold percentage of NANs\"\"\"\n",
    "  threshold= len(Train) * 0.8 #specifying threshold percentage \n",
    "  Train=Train.dropna(axis=1, thresh=threshold)  #dropping columns with 50% NANs\n",
    "  return Train"
   ]
  },
  {
   "cell_type": "code",
   "execution_count": 9,
   "id": "198f4060",
   "metadata": {
    "scrolled": true
   },
   "outputs": [],
   "source": [
    "#calling the function\n",
    "Train = drop_cols_na(Train,0.8)\n",
    "Test = drop_cols_na(Test,0.8)\n"
   ]
  },
  {
   "cell_type": "code",
   "execution_count": 10,
   "id": "90fd19f6",
   "metadata": {},
   "outputs": [
    {
     "name": "stdout",
     "output_type": "stream",
     "text": [
      "((30557, 57), (16136, 52))\n"
     ]
    }
   ],
   "source": [
    "print((Train.shape,Test.shape))"
   ]
  },
  {
   "cell_type": "code",
   "execution_count": 11,
   "id": "de5591c1",
   "metadata": {},
   "outputs": [],
   "source": [
    "Train.drop(['Place_ID X Date','Place_ID','target_min','target_max','target_variance','target_count'], axis=1, inplace=True)\n",
    "\n",
    "Test.drop(['Place_ID X Date','Place_ID'], axis=1, inplace=True)"
   ]
  },
  {
   "cell_type": "code",
   "execution_count": 12,
   "id": "076da4b2",
   "metadata": {},
   "outputs": [],
   "source": [
    "Train.fillna(Train.mean(), inplace=True)\n",
    "Test.fillna(Test.mean(), inplace=True)"
   ]
  },
  {
   "cell_type": "code",
   "execution_count": 13,
   "id": "062b01f1",
   "metadata": {},
   "outputs": [],
   "source": [
    "Train['Date']= pd.to_datetime(Train['Date'], dayfirst=True)\n",
    "\n",
    "#\n",
    "Train['year']=Train['Date'].dt.year\n",
    "Train['Month']=Train['Date'].dt.month\n",
    "Train['Day']=Train['Date'].dt.day\n",
    "\n",
    "\n",
    "Train.drop(['Date'],axis=1, inplace=True)"
   ]
  },
  {
   "cell_type": "code",
   "execution_count": 14,
   "id": "df7961e9",
   "metadata": {},
   "outputs": [],
   "source": [
    "Test['Date']= pd.to_datetime(Test['Date'], dayfirst=True)\n",
    "\n",
    "#\n",
    "Test['year']=Test['Date'].dt.year\n",
    "Test['Month']=Test['Date'].dt.month\n",
    "Test['Day']=Test['Date'].dt.day\n",
    "\n",
    "\n",
    "Test.drop(['Date'],axis=1, inplace=True)"
   ]
  },
  {
   "cell_type": "code",
   "execution_count": 15,
   "id": "a7667a53",
   "metadata": {
    "scrolled": false
   },
   "outputs": [],
   "source": [
    "# move tagret column to last position \n",
    "new_cols = [col for col in Train.columns if col != 'target'] + ['target']\n",
    "Train= Train[new_cols]\n"
   ]
  },
  {
   "cell_type": "code",
   "execution_count": 16,
   "id": "b3545b8d",
   "metadata": {},
   "outputs": [],
   "source": [
    "X=Train.iloc[:,:-1] ## independent features\n",
    "y=Train.iloc[:,-1] ## dependent features"
   ]
  },
  {
   "cell_type": "code",
   "execution_count": 17,
   "id": "da3daf62",
   "metadata": {},
   "outputs": [
    {
     "data": {
      "text/plain": [
       "ExtraTreesRegressor()"
      ]
     },
     "execution_count": 17,
     "metadata": {},
     "output_type": "execute_result"
    }
   ],
   "source": [
    "from sklearn.ensemble import ExtraTreesRegressor\n",
    "import matplotlib.pyplot as plt\n",
    "model = ExtraTreesRegressor()\n",
    "model.fit(X,y)"
   ]
  },
  {
   "cell_type": "code",
   "execution_count": 18,
   "id": "221e763c",
   "metadata": {
    "scrolled": true
   },
   "outputs": [],
   "source": [
    "feat_importances= pd.Series(model.feature_importances_, index=X.columns)\n",
    "feat_importances=feat_importances.nlargest(35).keys().to_list()\n"
   ]
  },
  {
   "cell_type": "code",
   "execution_count": 19,
   "id": "8d329647",
   "metadata": {},
   "outputs": [],
   "source": [
    "for item in feat_importances:\n",
    "    Train_data_new =Train[feat_importances]\n",
    "    Test_data_new =Test[feat_importances]"
   ]
  },
  {
   "cell_type": "code",
   "execution_count": 20,
   "id": "e3f54215",
   "metadata": {},
   "outputs": [],
   "source": [
    "scaler_x=StandardScaler()\n",
    "X_scaled=scaler_x.fit(Train_data_new)\n",
    "X_scaled=scaler_x.transform(Train_data_new)\n",
    "\n",
    "\n",
    "\n",
    "scaler_y=StandardScaler()\n",
    "y=y.values.reshape(-1,1)\n",
    "y_scaled=scaler_y.fit(y)\n",
    "y_scaled=scaler_y.transform(y)"
   ]
  },
  {
   "cell_type": "code",
   "execution_count": 21,
   "id": "bbd34b44",
   "metadata": {},
   "outputs": [
    {
     "data": {
      "text/plain": [
       "(30557, 35)"
      ]
     },
     "execution_count": 21,
     "metadata": {},
     "output_type": "execute_result"
    }
   ],
   "source": [
    "X_scaled.shape\n"
   ]
  },
  {
   "cell_type": "code",
   "execution_count": 22,
   "id": "8969dd99",
   "metadata": {},
   "outputs": [
    {
     "data": {
      "text/plain": [
       "(30557, 1)"
      ]
     },
     "execution_count": 22,
     "metadata": {},
     "output_type": "execute_result"
    }
   ],
   "source": [
    "y_scaled.shape"
   ]
  },
  {
   "cell_type": "code",
   "execution_count": 23,
   "id": "c7a2d250",
   "metadata": {},
   "outputs": [],
   "source": [
    "X_train, X_test, y_train, y_test = train_test_split(X_scaled, y_scaled, test_size=0.25,random_state=0)"
   ]
  },
  {
   "cell_type": "code",
   "execution_count": 24,
   "id": "a601506f",
   "metadata": {},
   "outputs": [],
   "source": [
    "def create_model():\n",
    "    reset_random_seeds()\n",
    "    Ann_model = Sequential()\n",
    "\n",
    "# The Input Layer :\n",
    "    Ann_model.add(Dense(360, kernel_initializer='normal',input_dim = X_train.shape[1], activation='relu',kernel_regularizer=l1(0.01),bias_regularizer=l1(0.01)))\n",
    "\n",
    "# The Hidden Layers :\n",
    "    Ann_model.add(Dense(360,activation='relu'))\n",
    "    Ann_model.add(Dropout(0.2))\n",
    "    Ann_model.add(Dense(360,activation='relu'))\n",
    "    Ann_model.add(Dropout(0.2))\n",
    "    Ann_model.add(Dense(180,activation='relu'))\n",
    "    Ann_model.add(Dropout(0.2))\n",
    "    Ann_model.add(Dense(180,activation='relu'))\n",
    "    Ann_model.add(Dense(90,activation='relu'))\n",
    "\n",
    "# The Output Layer :\n",
    "    Ann_model.add(Dense(1,activation='linear'))\n",
    "\n",
    "# Compile the network :\n",
    "    Ann_model.compile(loss='mse', optimizer='adagrad', metrics=['mean_squared_error'],)\n",
    "    return Ann_model\n",
    " \n"
   ]
  },
  {
   "cell_type": "code",
   "execution_count": 25,
   "id": "d75e3bf9",
   "metadata": {},
   "outputs": [],
   "source": [
    "from keras.wrappers.scikit_learn import KerasRegressor\n",
    "Ann_model=KerasRegressor(build_fn=create_model)"
   ]
  },
  {
   "cell_type": "code",
   "execution_count": 26,
   "id": "adc98a9d",
   "metadata": {},
   "outputs": [],
   "source": [
    "from keras.callbacks import EarlyStopping\n",
    "\n",
    "early_stopping=EarlyStopping()"
   ]
  },
  {
   "cell_type": "code",
   "execution_count": 27,
   "id": "e9ae3a26",
   "metadata": {},
   "outputs": [],
   "source": [
    "model_history=Ann_model.fit(X_train, y_train,validation_data=(X_train,y_train),verbose=0, \n",
    "                            batch_size = 10, epochs = 500,callbacks=[early_stopping])\n",
    "\n"
   ]
  },
  {
   "cell_type": "code",
   "execution_count": 28,
   "id": "66adf903",
   "metadata": {},
   "outputs": [],
   "source": [
    "pred_test=Ann_model.predict(X_test)\n",
    "pred_train=Ann_model.predict(X_train)"
   ]
  },
  {
   "cell_type": "code",
   "execution_count": 29,
   "id": "5b275590",
   "metadata": {},
   "outputs": [
    {
     "data": {
      "image/png": "[encoded data removed]",
      "text/plain": [
       "<Figure size 432x288 with 1 Axes>"
      ]
     },
     "metadata": {
      "needs_background": "light"
     },
     "output_type": "display_data"
    }
   ],
   "source": [
    "plt.plot(model_history.history['loss'], label='Training')\n",
    "plt.plot(model_history.history['val_loss'], label='Test')\n",
    "plt.ylabel('loss')\n",
    "plt.xlabel('epoch')\n",
    "plt.legend(loc='upper right')\n",
    "plt.show()"
   ]
  },
  {
   "cell_type": "code",
   "execution_count": 30,
   "id": "14de6407",
   "metadata": {},
   "outputs": [
    {
     "data": {
      "image/png": "[encoded data removed]",
      "text/plain": [
       "<Figure size 504x504 with 1 Axes>"
      ]
     },
     "metadata": {
      "needs_background": "light"
     },
     "output_type": "display_data"
    }
   ],
   "source": [
    "plt.figure(figsize=(7,7))\n",
    "plt.scatter(y_train,pred_train, marker='o', color='#f97306', label='train' )\n",
    "plt.scatter(y_test,pred_test, marker='+', color='#3f9b0b', label='test' )\n",
    "plt.legend(loc='upper left')\n",
    "plt.plot(y_train,y_train, color='#00035b')\n",
    "plt.xlabel('True')\n",
    "plt.ylabel('Predicted')\n",
    "plt.show()"
   ]
  },
  {
   "cell_type": "code",
   "execution_count": 31,
   "id": "05363ef4",
   "metadata": {},
   "outputs": [],
   "source": [
    "from sklearn import metrics \n",
    "from sklearn.metrics import r2_score"
   ]
  },
  {
   "cell_type": "code",
   "execution_count": 32,
   "id": "6064bfbd",
   "metadata": {},
   "outputs": [
    {
     "name": "stdout",
     "output_type": "stream",
     "text": [
      "MAE: 0.48224576673554237\n",
      "MSE: 0.5004080767332194\n",
      "RMSE: 0.7073952761598139\n",
      "R_squared:0.5\n"
     ]
    }
   ],
   "source": [
    "print('MAE:', metrics.mean_absolute_error(y_test, pred_test))\n",
    "print('MSE:', metrics.mean_squared_error(y_test, pred_test))\n",
    "print('RMSE:', np.sqrt(metrics.mean_squared_error(y_test, pred_test)))\n",
    "print('R_squared:'+ str(round(r2_score(y_test,pred_test),2)))"
   ]
  },
  {
   "cell_type": "code",
   "execution_count": 33,
   "id": "69ea9d04",
   "metadata": {},
   "outputs": [],
   "source": [
    "scaler_x=StandardScaler()\n",
    "Test_new_scaled=scaler_x.fit(Test_data_new)\n",
    "Test_new_scaled=scaler_x.transform(Test_data_new)\n"
   ]
  },
  {
   "cell_type": "code",
   "execution_count": 39,
   "id": "eef952e9",
   "metadata": {},
   "outputs": [],
   "source": [
    "y_hat=Ann_model.predict(Test_new_scaled)"
   ]
  },
  {
   "cell_type": "code",
   "execution_count": 40,
   "id": "79b3166f",
   "metadata": {},
   "outputs": [],
   "source": [
    "sub= pd.read_csv('C:\\\\Users\\\\Okwua\\\\SampleSubmission.csv')"
   ]
  },
  {
   "cell_type": "code",
   "execution_count": 42,
   "id": "5c9c326c",
   "metadata": {},
   "outputs": [
    {
     "name": "stdout",
     "output_type": "stream",
     "text": [
      "[50.907104 47.54038  51.1478   ... 45.73564  48.92807  50.012844]\n"
     ]
    }
   ],
   "source": [
    "y_hat = scaler_y.inverse_transform(y_hat)\n",
    "print(y_hat)"
   ]
  },
  {
   "cell_type": "code",
   "execution_count": 43,
   "id": "0c35b827",
   "metadata": {},
   "outputs": [],
   "source": [
    "sub['target']=y_hat"
   ]
  },
  {
   "cell_type": "code",
   "execution_count": 44,
   "id": "66951caf",
   "metadata": {},
   "outputs": [
    {
     "data": {
      "text/html": [
       "<div>\n",
       "<style scoped>\n",
       "    .dataframe tbody tr th:only-of-type {\n",
       "        vertical-align: middle;\n",
       "    }\n",
       "\n",
       "    .dataframe tbody tr th {\n",
       "        vertical-align: top;\n",
       "    }\n",
       "\n",
       "    .dataframe thead th {\n",
       "        text-align: right;\n",
       "    }\n",
       "</style>\n",
       "<table border=\"1\" class=\"dataframe\">\n",
       "  <thead>\n",
       "    <tr style=\"text-align: right;\">\n",
       "      <th></th>\n",
       "      <th>Place_ID X Date</th>\n",
       "      <th>target</th>\n",
       "    </tr>\n",
       "  </thead>\n",
       "  <tbody>\n",
       "    <tr>\n",
       "      <th>0</th>\n",
       "      <td>0OS9LVX X 2020-01-02</td>\n",
       "      <td>50.907104</td>\n",
       "    </tr>\n",
       "    <tr>\n",
       "      <th>1</th>\n",
       "      <td>0OS9LVX X 2020-01-03</td>\n",
       "      <td>47.540379</td>\n",
       "    </tr>\n",
       "    <tr>\n",
       "      <th>2</th>\n",
       "      <td>0OS9LVX X 2020-01-04</td>\n",
       "      <td>51.147800</td>\n",
       "    </tr>\n",
       "    <tr>\n",
       "      <th>3</th>\n",
       "      <td>0OS9LVX X 2020-01-05</td>\n",
       "      <td>37.041096</td>\n",
       "    </tr>\n",
       "    <tr>\n",
       "      <th>4</th>\n",
       "      <td>0OS9LVX X 2020-01-06</td>\n",
       "      <td>39.175957</td>\n",
       "    </tr>\n",
       "  </tbody>\n",
       "</table>\n",
       "</div>"
      ],
      "text/plain": [
       "        Place_ID X Date     target\n",
       "0  0OS9LVX X 2020-01-02  50.907104\n",
       "1  0OS9LVX X 2020-01-03  47.540379\n",
       "2  0OS9LVX X 2020-01-04  51.147800\n",
       "3  0OS9LVX X 2020-01-05  37.041096\n",
       "4  0OS9LVX X 2020-01-06  39.175957"
      ]
     },
     "execution_count": 44,
     "metadata": {},
     "output_type": "execute_result"
    }
   ],
   "source": [
    "sub.head()"
   ]
  },
  {
   "cell_type": "code",
   "execution_count": 45,
   "id": "4c87a5bd",
   "metadata": {},
   "outputs": [],
   "source": [
    "sub.to_csv('Output.csv', index=False)"
   ]
  }
 ],
 "metadata": {
  "kernelspec": {
   "display_name": "Python 3",
   "language": "python",
   "name": "python3"
  },
  "language_info": {
   "codemirror_mode": {
    "name": "ipython",
    "version": 3
   },
   "file_extension": ".py",
   "mimetype": "text/x-python",
   "name": "python",
   "nbconvert_exporter": "python",
   "pygments_lexer": "ipython3",
   "version": "3.8.8"
  }
 },
 "nbformat": 4,
 "nbformat_minor": 5
}
